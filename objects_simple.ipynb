{
 "cells": [
  {
   "cell_type": "code",
   "execution_count": 13,
   "metadata": {},
   "outputs": [],
   "source": [
    "from psychopy import gui\n",
    "\n",
    "class data:\n",
    "    x = 10\n",
    "    y = 20\n",
    "\n",
    "\n",
    "class Person:\n",
    "    def __init__(self, name: str, birthyear: int) -> None:\n",
    "        self.name = name \n",
    "        self.birthyear = birthyear \n",
    "    \n",
    "\n",
    "    def name_change(self,name:str):\n",
    "        self.name = name \n",
    "\n",
    "\n",
    "class Student(Person):\n",
    "    def __init__(self, name: str, birthyear: int, graduation:int) -> None:\n",
    "        super().__init__(name, birthyear)\n",
    "        self.grad_year = graduation \n",
    "        self.get_degree()\n",
    "\n",
    "    def get_degree(self):\n",
    "        inputDict = {'School':'~','Degree':'none'}\n",
    "        inputDialogue = gui.DlgFromDict(inputDict, title='enter graduation info', order = ['School','Degree'])\n",
    "\n",
    "        self.school = inputDialogue.dictionary['School']\n",
    "        self.degree = inputDialogue.dictionary['Degree']\n",
    "\n",
    "    def print_info(self):\n",
    "        print('Student:', self.name)\n",
    "        print('Age:', 2022 - self.birthyear)\n",
    "        print('Degree:', self.degree, 'from', self.school)\n",
    "\n"
   ]
  },
  {
   "cell_type": "code",
   "execution_count": 21,
   "metadata": {},
   "outputs": [],
   "source": [
    "# person = Person('john', 1999)\n",
    "student = Student('Kathy',1987, 2009)"
   ]
  },
  {
   "cell_type": "code",
   "execution_count": 20,
   "metadata": {},
   "outputs": [
    {
     "name": "stdout",
     "output_type": "stream",
     "text": [
      "12\n"
     ]
    }
   ],
   "source": [
    "person.name = 12\n",
    "print(person.name)"
   ]
  },
  {
   "cell_type": "code",
   "execution_count": 22,
   "metadata": {},
   "outputs": [
    {
     "name": "stdout",
     "output_type": "stream",
     "text": [
      "Student: Kathy\n",
      "Age: 35\n",
      "Degree: BS CompSci from Arizona State University\n"
     ]
    }
   ],
   "source": [
    "student.print_info()"
   ]
  },
  {
   "cell_type": "code",
   "execution_count": 24,
   "metadata": {},
   "outputs": [],
   "source": [
    "import pandas as pd\n",
    "\n",
    "class Subject:\n",
    "    def __init__(self, subj_code, experiment) -> None:\n",
    "        self.subj = subj_code\n",
    "        self.exp = experiment\n",
    "\n",
    "    \n",
    "class TrialMatrix(Subject):\n",
    "    def __init__(self, subj: Subject) -> None:\n",
    "        super().__init__(subj.subj, subj.exp)\n",
    "        self.data = pd.DataFrame(columns=['subj','run','trial','start_iti','end_iti','start_stim1','end_stim1','start_stim2','end_stim2','t_response'])\n",
    "        self.curr_row = {} \n",
    "\n",
    "\n",
    "    def add_row(self):\n",
    "        row = []\n",
    "        self.data.append(self.curr_row)"
   ]
  },
  {
   "cell_type": "code",
   "execution_count": 25,
   "metadata": {},
   "outputs": [],
   "source": [
    "subj = Subject('guy','thing')\n",
    "\n",
    "trialMat = TrialMatrix(subj)"
   ]
  },
  {
   "cell_type": "code",
   "execution_count": 27,
   "metadata": {},
   "outputs": [
    {
     "name": "stdout",
     "output_type": "stream",
     "text": [
      "1\n",
      "2\n",
      "3\n",
      "4\n",
      "3\n"
     ]
    }
   ],
   "source": [
    "for i in range(4):\n",
    "    a = i\n",
    "    a += 1\n",
    "    print(a)\n",
    "\n",
    "\n",
    "print(i)"
   ]
  },
  {
   "cell_type": "code",
   "execution_count": null,
   "metadata": {},
   "outputs": [],
   "source": []
  }
 ],
 "metadata": {
  "kernelspec": {
   "display_name": "Python 3.6.15 ('psychopyNEW')",
   "language": "python",
   "name": "python3"
  },
  "language_info": {
   "codemirror_mode": {
    "name": "ipython",
    "version": 3
   },
   "file_extension": ".py",
   "mimetype": "text/x-python",
   "name": "python",
   "nbconvert_exporter": "python",
   "pygments_lexer": "ipython3",
   "version": "3.6.15"
  },
  "orig_nbformat": 4,
  "vscode": {
   "interpreter": {
    "hash": "2d4d1f48a28ba2fe760fdf13eb252765a0bd62381f4d3a0b1cc29d02735bbc14"
   }
  }
 },
 "nbformat": 4,
 "nbformat_minor": 2
}
