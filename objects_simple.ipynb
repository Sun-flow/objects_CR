{
 "cells": [
  {
   "cell_type": "code",
   "execution_count": 6,
   "metadata": {},
   "outputs": [],
   "source": [
    "from psychopy import gui\n",
    "\n",
    "class data:\n",
    "    x = 10\n",
    "    y = 20\n",
    "\n",
    "\n",
    "class Person:\n",
    "    def __init__(self, name: str, birthyear: int) -> None:\n",
    "        self.name = name \n",
    "        self.birthyear = birthyear \n",
    "    \n",
    "\n",
    "    def name_change(self,name:str):\n",
    "        self.name = name \n",
    "\n",
    "\n",
    "class Student(Person):\n",
    "    def __init__(self, name: str, birthyear: int, graduation:int) -> None:\n",
    "        super().__init__(name, birthyear)\n",
    "        self.grad_year = graduation \n",
    "        self.get_degree()\n",
    "\n",
    "    def get_degree(self):\n",
    "        inputDict = {'School':'~','Degree':'none'}\n",
    "        inputDialogue = gui.DlgFromDict(inputDict, title='enter graduation info', order = ['School','Degree'])\n",
    "\n",
    "        self.school = inputDialogue.dictionary['School']\n",
    "        self.degree = inputDialogue.dictionary['Degree']\n",
    "\n",
    "    def print_info(self):\n",
    "        print('Student:', self.name)\n",
    "        print('Age:', 2022 - self.birthyear)\n",
    "        print('Degree:', self.degree, 'from', self.school)\n",
    "\n"
   ]
  },
  {
   "cell_type": "code",
   "execution_count": 7,
   "metadata": {},
   "outputs": [],
   "source": [
    "person = Person('john', 1999)\n",
    "student = Student('Kathy',1987, 2009)"
   ]
  },
  {
   "cell_type": "code",
   "execution_count": 8,
   "metadata": {},
   "outputs": [
    {
     "name": "stdout",
     "output_type": "stream",
     "text": [
      "Student: Kathy\n",
      "Age: 35\n",
      "Degree: none from ~\n"
     ]
    }
   ],
   "source": [
    "student.print_info()"
   ]
  },
  {
   "cell_type": "code",
   "execution_count": 10,
   "metadata": {},
   "outputs": [],
   "source": [
    "import pandas as pd\n",
    "\n",
    "class Subject:\n",
    "    def __init__(self, subj_code, experiment) -> None:\n",
    "        self.subj = subj_code\n",
    "        self.exp = experiment\n",
    "\n",
    "    \n",
    "class TrialMatrix(Subject):\n",
    "    def __init__(self, subj_code, experiment) -> None:\n",
    "        super().__init__(subj_code, experiment)\n",
    "        self.data = pd.DataFrame(columns=['subj','run','trial','start_iti','end_iti','start_stim1','end_stim1','start_stim2','end_stim2','t_response'])\n",
    "        self.curr_row = {} \n",
    "\n",
    "\n",
    "    def add_row(self):\n",
    "        row = []\n",
    "        self.data.append(self.curr_row)"
   ]
  },
  {
   "cell_type": "code",
   "execution_count": 12,
   "metadata": {},
   "outputs": [],
   "source": [
    "subj = Subject('guy','thing')\n",
    "\n",
    "trialMat = TrialMatrix(subj.subj,subj.exp)"
   ]
  },
  {
   "cell_type": "code",
   "execution_count": null,
   "metadata": {},
   "outputs": [],
   "source": []
  }
 ],
 "metadata": {
  "kernelspec": {
   "display_name": "Python 3.6.15 ('psychopyNEW')",
   "language": "python",
   "name": "python3"
  },
  "language_info": {
   "codemirror_mode": {
    "name": "ipython",
    "version": 3
   },
   "file_extension": ".py",
   "mimetype": "text/x-python",
   "name": "python",
   "nbconvert_exporter": "python",
   "pygments_lexer": "ipython3",
   "version": "3.6.15"
  },
  "orig_nbformat": 4,
  "vscode": {
   "interpreter": {
    "hash": "2d4d1f48a28ba2fe760fdf13eb252765a0bd62381f4d3a0b1cc29d02735bbc14"
   }
  }
 },
 "nbformat": 4,
 "nbformat_minor": 2
}
